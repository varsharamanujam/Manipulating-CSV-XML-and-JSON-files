{
 "cells": [
  {
   "cell_type": "code",
   "execution_count": 2,
   "metadata": {},
   "outputs": [],
   "source": [
    "import numpy as np\n",
    "import pandas as pd"
   ]
  },
  {
   "cell_type": "code",
   "execution_count": 3,
   "metadata": {},
   "outputs": [],
   "source": [
    "#solution code here\n",
    "accounts = pd.read_csv('accounts.csv')\n",
    "clicks = pd.read_csv('clicks.csv')\n",
    "products = pd.read_csv('products.csv')\n",
    "sales_pipeline = pd.read_csv('sales_pipeline.csv')\n",
    "sales_teams = pd.read_csv('sales_teams.csv')\n",
    "orchestra = pd.read_json('Orchestra.json')"
   ]
  },
  {
   "cell_type": "markdown",
   "metadata": {},
   "source": [
    "1. Display 'Manager' and 'Grand Total Sales', for sales done by the sales agents reporting these managers"
   ]
  },
  {
   "cell_type": "code",
   "execution_count": 4,
   "metadata": {},
   "outputs": [
    {
     "data": {
      "text/html": [
       "<div>\n",
       "<style scoped>\n",
       "    .dataframe tbody tr th:only-of-type {\n",
       "        vertical-align: middle;\n",
       "    }\n",
       "\n",
       "    .dataframe tbody tr th {\n",
       "        vertical-align: top;\n",
       "    }\n",
       "\n",
       "    .dataframe thead th {\n",
       "        text-align: right;\n",
       "    }\n",
       "</style>\n",
       "<table border=\"1\" class=\"dataframe\">\n",
       "  <thead>\n",
       "    <tr style=\"text-align: right;\">\n",
       "      <th></th>\n",
       "      <th>Manager</th>\n",
       "      <th>Grand Total Sales</th>\n",
       "    </tr>\n",
       "  </thead>\n",
       "  <tbody>\n",
       "    <tr>\n",
       "      <th>0</th>\n",
       "      <td>Cara Losch</td>\n",
       "      <td>1861751.0</td>\n",
       "    </tr>\n",
       "    <tr>\n",
       "      <th>1</th>\n",
       "      <td>Celia Rouche</td>\n",
       "      <td>2518466.0</td>\n",
       "    </tr>\n",
       "    <tr>\n",
       "      <th>2</th>\n",
       "      <td>Dustin Brinkmann</td>\n",
       "      <td>3028635.0</td>\n",
       "    </tr>\n",
       "    <tr>\n",
       "      <th>3</th>\n",
       "      <td>Melvin Marxen</td>\n",
       "      <td>4265901.0</td>\n",
       "    </tr>\n",
       "    <tr>\n",
       "      <th>4</th>\n",
       "      <td>Rocco Neubert</td>\n",
       "      <td>3346813.0</td>\n",
       "    </tr>\n",
       "    <tr>\n",
       "      <th>5</th>\n",
       "      <td>Summer Sewald</td>\n",
       "      <td>2915362.0</td>\n",
       "    </tr>\n",
       "  </tbody>\n",
       "</table>\n",
       "</div>"
      ],
      "text/plain": [
       "            Manager  Grand Total Sales\n",
       "0        Cara Losch          1861751.0\n",
       "1      Celia Rouche          2518466.0\n",
       "2  Dustin Brinkmann          3028635.0\n",
       "3     Melvin Marxen          4265901.0\n",
       "4     Rocco Neubert          3346813.0\n",
       "5     Summer Sewald          2915362.0"
      ]
     },
     "execution_count": 4,
     "metadata": {},
     "output_type": "execute_result"
    }
   ],
   "source": [
    "#solution code here\n",
    "df1 = sales_pipeline[['sales_agent','close_value']].dropna()\n",
    "dat1 = df1.groupby(by='sales_agent').apply(sum)[['close_value']]\n",
    "dat1 = dat1.reset_index()\n",
    "df1_sol = sales_teams.merge(dat1, how = 'left', left_on='sales_agent', right_on = 'sales_agent')\n",
    "df1_sol = df1_sol.groupby('manager').apply(sum)[['close_value']]\n",
    "df1_sol.reset_index(inplace=True)\n",
    "df1_sol.rename(columns={'manager':'Manager','close_value':'Grand Total Sales'}, inplace=True)\n",
    "df1_sol"
   ]
  },
  {
   "cell_type": "markdown",
   "metadata": {},
   "source": [
    " 2. Display 'Sales Agents' and 'Sales' for those sales where product sold at profit"
   ]
  },
  {
   "cell_type": "code",
   "execution_count": 5,
   "metadata": {},
   "outputs": [
    {
     "data": {
      "text/html": [
       "<div>\n",
       "<style scoped>\n",
       "    .dataframe tbody tr th:only-of-type {\n",
       "        vertical-align: middle;\n",
       "    }\n",
       "\n",
       "    .dataframe tbody tr th {\n",
       "        vertical-align: top;\n",
       "    }\n",
       "\n",
       "    .dataframe thead th {\n",
       "        text-align: right;\n",
       "    }\n",
       "</style>\n",
       "<table border=\"1\" class=\"dataframe\">\n",
       "  <thead>\n",
       "    <tr style=\"text-align: right;\">\n",
       "      <th></th>\n",
       "      <th>sales_agent</th>\n",
       "      <th>Sales</th>\n",
       "    </tr>\n",
       "  </thead>\n",
       "  <tbody>\n",
       "    <tr>\n",
       "      <th>0</th>\n",
       "      <td>Anna Snelling</td>\n",
       "      <td>113</td>\n",
       "    </tr>\n",
       "    <tr>\n",
       "      <th>1</th>\n",
       "      <td>Boris Faz</td>\n",
       "      <td>62</td>\n",
       "    </tr>\n",
       "    <tr>\n",
       "      <th>2</th>\n",
       "      <td>Cassey Cress</td>\n",
       "      <td>130</td>\n",
       "    </tr>\n",
       "    <tr>\n",
       "      <th>3</th>\n",
       "      <td>Cecily Lampkin</td>\n",
       "      <td>78</td>\n",
       "    </tr>\n",
       "    <tr>\n",
       "      <th>4</th>\n",
       "      <td>Corliss Cosme</td>\n",
       "      <td>100</td>\n",
       "    </tr>\n",
       "  </tbody>\n",
       "</table>\n",
       "</div>"
      ],
      "text/plain": [
       "      sales_agent  Sales\n",
       "0   Anna Snelling    113\n",
       "1       Boris Faz     62\n",
       "2    Cassey Cress    130\n",
       "3  Cecily Lampkin     78\n",
       "4   Corliss Cosme    100"
      ]
     },
     "execution_count": 5,
     "metadata": {},
     "output_type": "execute_result"
    }
   ],
   "source": [
    "#solution code here\n",
    "df2 = sales_pipeline.merge(products, how = 'left', left_on='product', right_on='product')\n",
    "df2['profit'] = df2['close_value']-df2['sales_price']\n",
    "df2 = df2[df2['profit']>0]\n",
    "df2 = df2[['sales_agent','profit']]\n",
    "df2_sol = df2.groupby('sales_agent').count().reset_index()\n",
    "df2_sol.rename(columns={'profit':'Sales'}, inplace=True)\n",
    "df2_sol.head()"
   ]
  },
  {
   "cell_type": "markdown",
   "metadata": {},
   "source": [
    "3. Display 'Sales Agent' and 'Opportunity Count', for those sales agents who lost atleast two opportunties"
   ]
  },
  {
   "cell_type": "code",
   "execution_count": 8,
   "metadata": {},
   "outputs": [
    {
     "data": {
      "text/html": [
       "<div>\n",
       "<style scoped>\n",
       "    .dataframe tbody tr th:only-of-type {\n",
       "        vertical-align: middle;\n",
       "    }\n",
       "\n",
       "    .dataframe tbody tr th {\n",
       "        vertical-align: top;\n",
       "    }\n",
       "\n",
       "    .dataframe thead th {\n",
       "        text-align: right;\n",
       "    }\n",
       "</style>\n",
       "<table border=\"1\" class=\"dataframe\">\n",
       "  <thead>\n",
       "    <tr style=\"text-align: right;\">\n",
       "      <th></th>\n",
       "      <th>sales_agent</th>\n",
       "      <th>deal_stage</th>\n",
       "    </tr>\n",
       "  </thead>\n",
       "  <tbody>\n",
       "    <tr>\n",
       "      <th>0</th>\n",
       "      <td>Anna Snelling</td>\n",
       "      <td>140</td>\n",
       "    </tr>\n",
       "    <tr>\n",
       "      <th>1</th>\n",
       "      <td>Boris Faz</td>\n",
       "      <td>63</td>\n",
       "    </tr>\n",
       "    <tr>\n",
       "      <th>2</th>\n",
       "      <td>Cassey Cress</td>\n",
       "      <td>137</td>\n",
       "    </tr>\n",
       "    <tr>\n",
       "      <th>3</th>\n",
       "      <td>Cecily Lampkin</td>\n",
       "      <td>86</td>\n",
       "    </tr>\n",
       "    <tr>\n",
       "      <th>4</th>\n",
       "      <td>Corliss Cosme</td>\n",
       "      <td>126</td>\n",
       "    </tr>\n",
       "  </tbody>\n",
       "</table>\n",
       "</div>"
      ],
      "text/plain": [
       "      sales_agent  deal_stage\n",
       "0   Anna Snelling         140\n",
       "1       Boris Faz          63\n",
       "2    Cassey Cress         137\n",
       "3  Cecily Lampkin          86\n",
       "4   Corliss Cosme         126"
      ]
     },
     "execution_count": 8,
     "metadata": {},
     "output_type": "execute_result"
    }
   ],
   "source": [
    "#solution code here\n",
    "df5 = sales_pipeline[['sales_agent','deal_stage']]\n",
    "df5 = df5[df5['deal_stage'] == 'Lost']\n",
    "df5_sol = df5.groupby('sales_agent').count()\n",
    "df5_sol = df5_sol[df5_sol['deal_stage']>=2].reset_index()\n",
    "df5_sol.rename(columns={'deal_stage':'Opportunity Count'})\n",
    "df5_sol.head()"
   ]
  },
  {
   "cell_type": "markdown",
   "metadata": {},
   "source": [
    "4. Display 'Month of Year' vs 'Sales', for GTXBasic. NOTE: \"Month of Year\" means month year (eg. Jan) and \"Month\" means month (eg. Jan 2020, Jan 2021 etc)"
   ]
  },
  {
   "cell_type": "code",
   "execution_count": 19,
   "metadata": {},
   "outputs": [
    {
     "name": "stdout",
     "output_type": "stream",
     "text": [
      "Jan 0\n",
      "Feb 0\n",
      "Mar 63\n",
      "Apr 107\n",
      "May 154\n",
      "Jun 188\n",
      "Jul 243\n",
      "Aug 313\n",
      "sep 378\n",
      "oct 265\n",
      "Nov 123\n",
      "Dec 307\n"
     ]
    }
   ],
   "source": [
    "#solution code here\n",
    "sadc=[0]*12\n",
    "dct={0:\"Jan\",1:\"Feb\",2:\"Mar\",3:\"Apr\",4:\"May\",5:\"Jun\",6:\"Jul\",7:\"Aug\",8:\"sep\",9:\"oct\",10:\"Nov\",11:\"Dec\"}\n",
    "for s in sales_pipeline.iterrows():\n",
    "    if(s[1]['product']==\"GTXBasic\"):\n",
    "        dt=s[1]['close_date']\n",
    "        #print(type(dt),str(dt))\n",
    "        if(str(dt)!=\"nan\"):\n",
    "            #print(dt[5:7])\n",
    "            sadc[int(dt[5:7])-1]+=1\n",
    "    \n",
    "for i in range(len(sadc)):\n",
    "    print(dct[i],sadc[i])"
   ]
  },
  {
   "cell_type": "markdown",
   "metadata": {},
   "source": [
    "5. Which sales agent(s) never lost a deal. Display as a dictionary {sales agent:sales}"
   ]
  },
  {
   "cell_type": "code",
   "execution_count": 12,
   "metadata": {},
   "outputs": [
    {
     "data": {
      "text/plain": [
       "{'Anna Snelling': 252,\n",
       " 'Boris Faz': 132,\n",
       " 'Cassey Cress': 267,\n",
       " 'Cecily Lampkin': 147,\n",
       " 'Corliss Cosme': 220,\n",
       " 'Daniell Hammack': 163,\n",
       " 'Darcel Schlecht': 662,\n",
       " 'Donn Cantrell': 232,\n",
       " 'Elease Gluck': 123,\n",
       " 'Garret Kinder': 107,\n",
       " 'Gladys Colclough': 256,\n",
       " 'Hayden Neloms': 142,\n",
       " 'James Ascencio': 141,\n",
       " 'Jonathan Berthelot': 337,\n",
       " 'Kami Bicknell': 250,\n",
       " 'Kary Hendrixson': 258,\n",
       " 'Lajuana Vencill': 252,\n",
       " 'Markita Hansen': 188,\n",
       " 'Marty Freudenburg': 247,\n",
       " 'Maureen Marcano': 210,\n",
       " 'Moses Frase': 198,\n",
       " 'Niesha Huffines': 253,\n",
       " 'Reed Clapper': 199,\n",
       " 'Rosalina Dieter': 115,\n",
       " 'Rosie Papadopoulos': 110,\n",
       " 'Versie Hillebrand': 200,\n",
       " 'Vicki Laflamme': 266,\n",
       " 'Violet Mclelland': 179,\n",
       " 'Wilburn Farren': 81,\n",
       " 'Zane Levy': 251}"
      ]
     },
     "execution_count": 12,
     "metadata": {},
     "output_type": "execute_result"
    }
   ],
   "source": [
    "#solution code here\n",
    "df9_dict = {}\n",
    "df9 = sales_pipeline[sales_pipeline['deal_stage'] == 'Won'][['sales_agent','deal_stage']]\n",
    "df9 = df9.groupby('sales_agent').count().reset_index()\n",
    "for i in range(len(df9)):\n",
    "  df9_dict[df9['sales_agent'].iloc[i]] = df9['deal_stage'].iloc[i]\n",
    "df9_dict"
   ]
  },
  {
   "cell_type": "markdown",
   "metadata": {},
   "source": [
    "Refer & Use Orchestra.json to answer problem 6-9 below"
   ]
  },
  {
   "cell_type": "markdown",
   "metadata": {},
   "source": [
    "6. Display the instrument played by Lehmann Caroline"
   ]
  },
  {
   "cell_type": "code",
   "execution_count": 14,
   "metadata": {},
   "outputs": [
    {
     "name": "stdout",
     "output_type": "stream",
     "text": [
      "Lehmann, Caroline plays Soprano\n"
     ]
    }
   ],
   "source": [
    "for k in orchestra['programs']:\n",
    "  for l in k['works']:\n",
    "    if(len(l['soloists'])!=0):\n",
    "      for m in l['soloists']:\n",
    "        if(m['soloistName']=='Lehmann, Caroline'):\n",
    "          print(m['soloistName'] +' plays ' + m['soloistInstrument'])\n",
    "          break\n",
    "        else:\n",
    "          continue\n",
    "        break\n",
    "      else:\n",
    "        continue\n",
    "      break\n",
    "    else:\n",
    "        continue\n",
    "    break\n",
    "  else:\n",
    "    continue\n",
    "  break  "
   ]
  },
  {
   "cell_type": "markdown",
   "metadata": {},
   "source": [
    "7. Display all vocalists"
   ]
  },
  {
   "cell_type": "code",
   "execution_count": 15,
   "metadata": {},
   "outputs": [
    {
     "name": "stdout",
     "output_type": "stream",
     "text": [
      "Bostwick, Emma Gillingham\n",
      "Shotwell-Piper, Mme.\n",
      "Farrell, Miss\n",
      "Wheeler, Katherine\n",
      "Sylva, Eloi\n",
      "Schoeller, Pauline\n",
      "Schott, Anton\n",
      "Pyk, Louise\n",
      "Munson\n",
      "MacPherson\n",
      "Elmblad, Johannes\n",
      "Crawford, Margaret\n",
      "Wurmb, Amalia\n",
      "Oberhauser\n",
      "Roode, Marie De\n",
      "Kronold-Koert, Koert Kronold\n",
      "Brandt, Marianne\n",
      "Hauk, Minnie\n",
      "Webster Powell, Alma\n",
      "Campanari, Guiseppi\n",
      "Moss, Hissam de\n",
      "Rosburgh, Ida\n",
      "Buxton, T.B.\n",
      "Feder, Otto\n",
      "Arnoult\n",
      "Tourny, Louisa\n",
      "Donadio, Bianca\n",
      "Crane, Ethel\n",
      "Galassi, Antonio F.\n",
      "Wilson, John H.\n",
      "Leach, S. L.\n",
      "Scaria, Emil\n",
      "Earle, Ella A.\n",
      "Murska, Ilma Di\n",
      "Stoepel, Helene\n",
      "Connell, Horatio\n",
      "Biden, Sydney\n",
      "Steins, Oscar\n",
      "Northall, Julia\n",
      "Kennedy, Maud\n",
      "Little, Lena\n",
      "Wuellner, Ludwig\n",
      "Senger, Emil\n",
      "Valleria, Alwina\n",
      "Staudigl, Joseph\n",
      "Braun, J.F.\n",
      "Parepa-Rosa, Euphrosyne\n",
      "Calve, Emma\n",
      "Tourny, Mina\n",
      "Gulager, Philipp D.\n",
      "Rennyson, Gertrude\n",
      "Rice, Fanny\n",
      "Langley, Leland\n",
      "Wyman, Walter C.\n",
      "Bloomfield, Estelle\n",
      "Homan, Miss\n",
      "Heinrich, Max\n",
      "Meacham, Mrs.\n",
      "De Luce\n",
      "Massett, J. Schwartz\n",
      "Osgood, E. Aline\n",
      "Klein\n",
      "Brouxmann, Mr.\n",
      "Bourne, F. G.\n",
      "Doenhoff von\n",
      "Jones, L. A.\n",
      "Rogers, Francis\n",
      "Schell, Hattie\n",
      "Gildersleeve, Miss\n",
      "Huntington, Agnes B.\n",
      "Anderson, Sara\n",
      "Brinkerhoff, Clara\n",
      "Root's Quartette Party\n",
      "Lankow, Anna\n",
      "Stuart, Georgiana R.\n",
      "Johnston, E.\n",
      "Wyman, Julia L.\n",
      "Dingley, C. A.\n",
      "Gazzaniga, Marietta\n",
      "Borie, Annie J.\n",
      "Johannsen Scheerer\n",
      "Bissell, Marie S.\n",
      "Peck, Mrs.\n",
      "Ablamowicz, Anna\n",
      "Keyes, Margaret\n",
      "Clark, Charles W.\n",
      "Clarke, Charles\n",
      "Cole, Belle\n",
      "Ford\n",
      "Ritter-Goetze, Marie\n",
      "Goldsticker, Carrie\n",
      "Ricci, Amalia\n",
      "Sherwin, Amy\n",
      "Siedenburg\n",
      "Dow, Anna Granger\n",
      "Vrigo, Wilfrid\n",
      "Bettaque, Katti\n",
      "Sterling, Antoinette\n",
      "Cutter-Savage, Ruby\n",
      "Alves, Carl\n",
      "Franconi\n",
      "Coletti, Filippo\n",
      "Schaffer, Josephine\n",
      "Connor, Adah\n",
      "Unknown Soloist\n",
      "Seelig, Natalie\n",
      "Chapman-Goold, Edith\n",
      "Schumann, Julius\n",
      "Stanley, W. H.\n",
      "Horn, C.E.\n",
      "Groebl, Marie\n",
      "Rulan, Tirzah Hamlen\n",
      "Mielke, Antonie\n",
      "Heinrich, Julia\n",
      "Howard, Kathleen\n",
      "Moore, Laura\n",
      "Gilibert, Charles\n",
      "Farrar, Geraldine\n",
      "Alvary, Max\n",
      "Drasdil, Anna\n",
      "Wooster, G. W.\n",
      "Harmon, Bertha\n",
      "Mott\n",
      "Kaschoska\n",
      "Griswold\n",
      "Bouchelle, Wallace\n",
      "Harvey, Raymond\n",
      "Munson, Grace\n",
      "Pico\n",
      "Jordan, Arthur\n",
      "Nassau, Marie\n",
      "Dempsey\n",
      "Butman, E.\n",
      "Sanquirico\n",
      "Jaques, Rosa\n",
      "Kelly, Anna Luella\n",
      "Young, John\n",
      "D'Angri, Elena\n",
      "Loder, Edward\n",
      "Henschel, Lillian June\n",
      "Dufft, Carl E.\n",
      "Arthurson\n",
      "Goettich, Hans\n",
      "Roth-Muehl, Nicolaus\n"
     ]
    }
   ],
   "source": [
    "#solution code here\n",
    "vocc=set()\n",
    "for prog in orchestra['programs']:\n",
    "     for wor in prog['works']:\n",
    "            #print(\"\",end=\".\")\n",
    "            for sol in wor[\"soloists\"]:\n",
    "                #print(sol[\"soloistInstrument\"])\n",
    "                if(sol[\"soloistInstrument\"]==\"Vocalist\"):\n",
    "                    #print(sol['soloistName'])\n",
    "                    vocc.add(sol['soloistName'])\n",
    "for i in vocc:\n",
    "    print(i)"
   ]
  },
  {
   "cell_type": "markdown",
   "metadata": {},
   "source": [
    "8. Display orchestra played under program id 2561"
   ]
  },
  {
   "cell_type": "code",
   "execution_count": 16,
   "metadata": {},
   "outputs": [
    {
     "name": "stdout",
     "output_type": "stream",
     "text": [
      "New York Philharmonic\n"
     ]
    }
   ],
   "source": [
    "#solution code here\n",
    "for prog in orchestra['programs']:\n",
    "    if(prog['programID']==\"2561\"):\n",
    "        print(prog['orchestra'])"
   ]
  },
  {
   "cell_type": "markdown",
   "metadata": {},
   "source": [
    "Refer & Use Orchestra.xml to answer problem 9-10 below"
   ]
  },
  {
   "cell_type": "markdown",
   "metadata": {},
   "source": [
    "9. Display locations used for event at time 8:15 PM"
   ]
  },
  {
   "cell_type": "code",
   "execution_count": 17,
   "metadata": {},
   "outputs": [
    {
     "name": "stdout",
     "output_type": "stream",
     "text": [
      "Brooklyn, NY\n",
      "Newark, NJ\n",
      "Springfield, MA\n",
      "Providence, RI\n",
      "Indianapolis, IN\n",
      "Philadelphia, PA\n",
      "Manhattan, NY\n",
      "New Haven, CT\n",
      "Hartford, CT\n"
     ]
    }
   ],
   "source": [
    "#solution code here\n",
    "import xml.etree.ElementTree as ET\n",
    "vocc=set()\n",
    "c=0\n",
    "tree = ET.parse('Orchestra.xml')\n",
    "root = tree.getroot()\n",
    "for child in root[:]: \n",
    "    c=c+1 \n",
    "    #print(child.tag, child.attrib)\n",
    "    for ch2 in child:\n",
    "    \n",
    "        #print(ch2.tag, ch2.attrib)\n",
    "        if(ch2.tag==\"concertInfo\"):\n",
    "            for ch3 in ch2:\n",
    "                #print(ch3.tag,ch3.attrib)\n",
    "                \n",
    "                if (ch3.tag==\"Time\"):\n",
    "                    if(ch3.text==\"8:15PM\"):\n",
    "                        #print(ch3.text)\n",
    "                        #print(ch2[1].text)\n",
    "                        vocc.add(ch2[1].text)\n",
    "for i in vocc:\n",
    "    print(i)"
   ]
  },
  {
   "cell_type": "markdown",
   "metadata": {},
   "source": [
    "10. Display total number of programs"
   ]
  },
  {
   "cell_type": "code",
   "execution_count": 18,
   "metadata": {},
   "outputs": [
    {
     "name": "stdout",
     "output_type": "stream",
     "text": [
      "number of programs 1033\n"
     ]
    }
   ],
   "source": [
    "#solution code here\n",
    "print(\"number of programs\",c)  "
   ]
  }
 ],
 "metadata": {
  "kernelspec": {
   "display_name": "Python 3",
   "language": "python",
   "name": "python3"
  },
  "language_info": {
   "codemirror_mode": {
    "name": "ipython",
    "version": 3
   },
   "file_extension": ".py",
   "mimetype": "text/x-python",
   "name": "python",
   "nbconvert_exporter": "python",
   "pygments_lexer": "ipython3",
   "version": "3.8.5"
  }
 },
 "nbformat": 4,
 "nbformat_minor": 4
}
